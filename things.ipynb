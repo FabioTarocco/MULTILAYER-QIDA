{
 "cells": [
  {
   "cell_type": "code",
   "execution_count": 7,
   "metadata": {},
   "outputs": [
    {
     "name": "stdout",
     "output_type": "stream",
     "text": [
      "1_3x3_1ACX\n",
      "../../MULTIQIDA/VQE_res/3x3/1_3x3_1ACX.pkl\n",
      "1_3x3_1ACX_2VLCX\n",
      "../../MULTIQIDA/VQE_res/1_3x3_1ACX_2VLCX.pkl\n",
      "2_3x3_1ACX\n",
      "../../MULTIQIDA/VQE_res/3x3/2_3x3_1ACX.pkl\n",
      "2_3x3_1ACX_2VLCX\n",
      "../../MULTIQIDA/VQE_res/2_3x3_1ACX_2VLCX.pkl\n",
      "3_3x3_1ACX\n",
      "../../MULTIQIDA/VQE_res/3x3/3_3x3_1ACX.pkl\n",
      "3_3x3_1ACX_2VLCX\n",
      "../../MULTIQIDA/VQE_res/3_3x3_1ACX_2VLCX.pkl\n",
      "4_3x3_1ACX\n",
      "../../MULTIQIDA/VQE_res/3x3/4_3x3_1ACX.pkl\n",
      "4_3x3_1ACX_2VLCX\n",
      "../../MULTIQIDA/VQE_res/4_3x3_1ACX_2VLCX.pkl\n",
      "5_3x3_1ACX\n",
      "../../MULTIQIDA/VQE_res/3x3/5_3x3_1ACX.pkl\n",
      "5_3x3_1ACX_2VLCX\n",
      "../../MULTIQIDA/VQE_res/5_3x3_1ACX_2VLCX.pkl\n",
      "6_3x3_1ACX\n",
      "../../MULTIQIDA/VQE_res/3x3/6_3x3_1ACX.pkl\n",
      "6_3x3_1ACX_2VLCX\n",
      "../../MULTIQIDA/VQE_res/6_3x3_1ACX_2VLCX.pkl\n",
      "7_3x3_1ACX\n",
      "../../MULTIQIDA/VQE_res/3x3/7_3x3_1ACX.pkl\n",
      "7_3x3_1ACX_2VLCX\n",
      "../../MULTIQIDA/VQE_res/7_3x3_1ACX_2VLCX.pkl\n",
      "8_3x3_1ACX\n",
      "../../MULTIQIDA/VQE_res/3x3/8_3x3_1ACX.pkl\n",
      "8_3x3_1ACX_2VLCX\n",
      "../../MULTIQIDA/VQE_res/8_3x3_1ACX_2VLCX.pkl\n",
      "9_3x3_1ACX\n",
      "../../MULTIQIDA/VQE_res/3x3/9_3x3_1ACX.pkl\n",
      "9_3x3_1ACX_2VLCX\n",
      "../../MULTIQIDA/VQE_res/9_3x3_1ACX_2VLCX.pkl\n"
     ]
    }
   ],
   "source": [
    "\n",
    "SU4 = 'SU4'\n",
    "CX = 'CX'\n",
    "\n",
    "Nx = 3\n",
    "Ny = 3\n",
    "\n",
    "depth = 1\n",
    "mode = 'A'\n",
    "gate = CX\n",
    "\n",
    "base_vqe = \"../../MULTIQIDA/VQE_res/\"\n",
    "f = \"{}x{}/\"\n",
    "name = \"{}_{}x{}_{}{}{}\"\n",
    "\n",
    "for i in range(1,10):\n",
    "    nome = name.format(i,Nx,Ny,depth,mode,gate)\n",
    "    print(nome)\n",
    "    f_vqe = base_vqe + f.format(Nx,Ny) + nome + \".pkl\"\n",
    "    print(f_vqe)\n",
    "    nome = nome + \"_{}{}{}\".format(2,'VL',gate)\n",
    "    f_extended = base_vqe+nome + \".pkl\"\n",
    "    print(nome)\n",
    "    print(f_extended)\n"
   ]
  },
  {
   "cell_type": "code",
   "execution_count": null,
   "metadata": {},
   "outputs": [],
   "source": []
  }
 ],
 "metadata": {
  "kernelspec": {
   "display_name": "AQ2023",
   "language": "python",
   "name": "python3"
  },
  "language_info": {
   "codemirror_mode": {
    "name": "ipython",
    "version": 3
   },
   "file_extension": ".py",
   "mimetype": "text/x-python",
   "name": "python",
   "nbconvert_exporter": "python",
   "pygments_lexer": "ipython3",
   "version": "3.10.0"
  }
 },
 "nbformat": 4,
 "nbformat_minor": 2
}
